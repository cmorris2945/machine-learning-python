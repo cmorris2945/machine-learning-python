{
 "cells": [
  {
   "cell_type": "code",
   "execution_count": 2,
   "metadata": {
    "scrolled": true
   },
   "outputs": [
    {
     "data": {
      "text/html": [
       "<div>\n",
       "<style scoped>\n",
       "    .dataframe tbody tr th:only-of-type {\n",
       "        vertical-align: middle;\n",
       "    }\n",
       "\n",
       "    .dataframe tbody tr th {\n",
       "        vertical-align: top;\n",
       "    }\n",
       "\n",
       "    .dataframe thead th {\n",
       "        text-align: right;\n",
       "    }\n",
       "</style>\n",
       "<table border=\"1\" class=\"dataframe\">\n",
       "  <thead>\n",
       "    <tr style=\"text-align: right;\">\n",
       "      <th></th>\n",
       "      <th>SCI1</th>\n",
       "      <th>NATR2</th>\n",
       "      <th>Response</th>\n",
       "    </tr>\n",
       "  </thead>\n",
       "  <tbody>\n",
       "    <tr>\n",
       "      <td>0</td>\n",
       "      <td>42.207707</td>\n",
       "      <td>5.453817</td>\n",
       "      <td>P</td>\n",
       "    </tr>\n",
       "    <tr>\n",
       "      <td>1</td>\n",
       "      <td>38.970469</td>\n",
       "      <td>5.015322</td>\n",
       "      <td>P</td>\n",
       "    </tr>\n",
       "    <tr>\n",
       "      <td>2</td>\n",
       "      <td>39.224086</td>\n",
       "      <td>5.078089</td>\n",
       "      <td>P</td>\n",
       "    </tr>\n",
       "    <tr>\n",
       "      <td>3</td>\n",
       "      <td>33.271147</td>\n",
       "      <td>5.819807</td>\n",
       "      <td>P</td>\n",
       "    </tr>\n",
       "    <tr>\n",
       "      <td>4</td>\n",
       "      <td>31.183694</td>\n",
       "      <td>5.290515</td>\n",
       "      <td>P</td>\n",
       "    </tr>\n",
       "  </tbody>\n",
       "</table>\n",
       "</div>"
      ],
      "text/plain": [
       "        SCI1     NATR2 Response\n",
       "0  42.207707  5.453817        P\n",
       "1  38.970469  5.015322        P\n",
       "2  39.224086  5.078089        P\n",
       "3  33.271147  5.819807        P\n",
       "4  31.183694  5.290515        P"
      ]
     },
     "execution_count": 2,
     "metadata": {},
     "output_type": "execute_result"
    }
   ],
   "source": [
    "import pandas as pd\n",
    "df = pd.read_csv('../data/MiceProtein_2f2c.csv')\n",
    "df.head(5)"
   ]
  },
  {
   "cell_type": "code",
   "execution_count": 13,
   "metadata": {},
   "outputs": [],
   "source": [
    "## Dataset: Expression values of SCI1 and NATR2 proteins from cerebrospinal fluid (CSF) of trisomic mice\n",
    "## Mice are treated with a specific drug to stimulate learning. \n",
    "## The Response variable shows the response of the mice to the treatment: P: Positive - N: Negative"
   ]
  },
  {
   "cell_type": "code",
   "execution_count": 3,
   "metadata": {},
   "outputs": [
    {
     "data": {
      "text/plain": [
       "150"
      ]
     },
     "execution_count": 3,
     "metadata": {},
     "output_type": "execute_result"
    }
   ],
   "source": [
    "## Know your data first\n",
    "## Find out how many samples exist in each class.\n",
    "## Examine distribution of the expression values of the genes across the classes. (Boxplot, histogram etc.)\n",
    "df_P = df[df['Response'] == 'P']\n",
    "df_P.shape[0]"
   ]
  },
  {
   "cell_type": "code",
   "execution_count": 5,
   "metadata": {},
   "outputs": [
    {
     "data": {
      "image/png": "[encoded data removed]",
      "text/plain": [
       "<Figure size 432x288 with 1 Axes>"
      ]
     },
     "metadata": {
      "needs_background": "light"
     },
     "output_type": "display_data"
    }
   ],
   "source": [
    "import matplotlib.pyplot as plt\n",
    "df.boxplot(column=['NATR2'], by=['Response'])\n",
    "plt.show()"
   ]
  },
  {
   "cell_type": "code",
   "execution_count": null,
   "metadata": {},
   "outputs": [],
   "source": [
    "## let's generate the scatter plot of the data in the original scale\n",
    "import matplotlib.pyplot as plt\n",
    "plt.figure(figsize = (max(df['SCI1']), max(df['NATR2'])))\n",
    "plt.xlabel('SCI1', fontsize = 40)\n",
    "plt.ylabel('NATR2', fontsize = 40)\n",
    "plt.title('Mice protein', fontsize = 40)\n",
    "# plt.setp(ax.get_xticklabels(), fontsize=40)\n",
    "# plt.setp(ax.get_yticklabels(), fontsize=40)\n",
    "targets = ['P', 'N']\n",
    "colors = ['b', 'r']\n",
    "for target, color in zip(targets,colors):\n",
    "    indices = df['Response'] == target\n",
    "    plt.scatter(df.loc[indices, 'SCI1']\n",
    "               , df.loc[indices, 'NATR2']\n",
    "               , c = color\n",
    "               , s = 400)\n",
    "plt.legend(targets, fontsize=40)\n",
    "plt.grid()\n",
    "## We have a new mouse with protein expression values 35 and 11.5 for SCI1 and NATR2, respectively.\n",
    "## Would that mice respond to the drug?\n",
    "## plt.plot(35, 11.5, color='black', marker='*', markersize=40)"
   ]
  },
  {
   "cell_type": "code",
   "execution_count": null,
   "metadata": {},
   "outputs": [],
   "source": [
    "## let's take a closer look at the neighborhood of the new sample\n",
    "## zooming into the [30,40] range in SCI1 and [7.5,15] range in NATR2 axis\n",
    "plt.figure(figsize = (10, 7.5)) \n",
    "plt.xlabel('SCI1', fontsize = 15)\n",
    "plt.ylabel('NATR2', fontsize = 15)\n",
    "plt.title('Mice protein', fontsize = 20)\n",
    "plt.xlim(30,40)\n",
    "plt.ylim(7.5,15)\n",
    "targets = ['P', 'N']\n",
    "colors = ['b', 'r']\n",
    "for target, color in zip(targets,colors):\n",
    "    indices = df['Response'] == target\n",
    "    plt.scatter(df.loc[indices, 'SCI1']\n",
    "               , df.loc[indices, 'NATR2']\n",
    "               , c = color\n",
    "               , s = 200)\n",
    "plt.legend(targets)\n",
    "plt.grid()\n",
    "plt.plot(35, 11.5, color='black', marker='*', markersize=20)\n",
    "## plot a circle centered in the new sample - set markersize 80, 120, 220\n",
    "# marker_style = dict(color='black', marker='o', markersize=120, fillstyle='none')\n",
    "# plt.plot(35, 11.5, **marker_style)\n",
    "plt.savefig(\"../results/knn_zoom.pdf\")"
   ]
  },
  {
   "cell_type": "code",
   "execution_count": 8,
   "metadata": {},
   "outputs": [
    {
     "name": "stdout",
     "output_type": "stream",
     "text": [
      "0      9.407835\n",
      "1      7.603662\n",
      "2      7.686602\n",
      "3      5.937468\n",
      "4      7.288477\n",
      "         ...   \n",
      "295    6.886170\n",
      "296    9.096613\n",
      "297    9.623557\n",
      "298    4.899723\n",
      "299    7.080866\n",
      "Length: 300, dtype: float64\n"
     ]
    }
   ],
   "source": [
    "## k-NN implementation step by step\n",
    "## Calculate Euclidean distances\n",
    "test_x=np.array([[35, 11.5]])\n",
    "Euc_dist = ((df['SCI1'] - test_x[0,0])**2 + (df['NATR2'] - test_x[0,1])**2)**0.5\n",
    "print(Euc_dist)"
   ]
  },
  {
   "cell_type": "code",
   "execution_count": 9,
   "metadata": {},
   "outputs": [],
   "source": [
    "Euc_df = pd.DataFrame({'Euc_dist': Euc_dist})\n",
    "df_dist = pd.concat([df, Euc_df], axis=1)"
   ]
  },
  {
   "cell_type": "code",
   "execution_count": 10,
   "metadata": {},
   "outputs": [
    {
     "name": "stdout",
     "output_type": "stream",
     "text": [
      "          SCI1      NATR2 Response   Euc_dist\n",
      "286  35.328458  10.970759        N   0.622881\n",
      "133  34.410275  11.146482        P   0.687568\n",
      "57   36.020573  11.687102        P   1.037582\n",
      "287  34.208460  10.412262        N   1.345255\n",
      "272  36.369440  12.354002        N   1.613904\n",
      "..         ...        ...      ...        ...\n",
      "102  11.362494   5.179193        P  24.468026\n",
      "189  10.513913   6.811383        N  24.930937\n",
      "190  10.042702   6.863643        N  25.384297\n",
      "193   7.663928   6.859300        N  27.727187\n",
      "192   4.705512   5.837582        N  30.819134\n",
      "\n",
      "[300 rows x 4 columns]\n"
     ]
    }
   ],
   "source": [
    "df_sortedDist = df_dist.sort_values('Euc_dist')\n",
    "print(df_sortedDist)"
   ]
  },
  {
   "cell_type": "code",
   "execution_count": 11,
   "metadata": {},
   "outputs": [
    {
     "name": "stdout",
     "output_type": "stream",
     "text": [
      "Counter({'N': 4, 'P': 3})\n",
      "N\n"
     ]
    }
   ],
   "source": [
    "## predict using different k values and compare the predictions\n",
    "k =7\n",
    "from collections import Counter\n",
    "c = Counter(df_sortedDist.head(k)['Response'])\n",
    "print(c)\n",
    "## majority voting\n",
    "value, count = c.most_common()[0]\n",
    "print(value)\n",
    "## calculate probabilities assuming equal weights for neighbors\n",
    "pr_P = c['P'] / k\n",
    "pr_N = c['N'] / k"
   ]
  },
  {
   "cell_type": "code",
   "execution_count": 12,
   "metadata": {},
   "outputs": [
    {
     "name": "stdout",
     "output_type": "stream",
     "text": [
      "(300, 2)\n",
      "['P']\n"
     ]
    }
   ],
   "source": [
    "## k-NN using the package\n",
    "import numpy as np\n",
    "from sklearn.neighbors import KNeighborsClassifier\n",
    "neigh = KNeighborsClassifier(n_neighbors=3)\n",
    "X = df[['SCI1', 'NATR2']].values\n",
    "y = df[['Response']].values\n",
    "print(X.shape)\n",
    "neigh.fit(X, np.ravel(y))\n",
    "print(neigh.predict(test_x))"
   ]
  },
  {
   "cell_type": "code",
   "execution_count": null,
   "metadata": {},
   "outputs": [],
   "source": [
    "## Exercise\n",
    "## Using KNeighborsClassifier predict probability of the test sample [35, 11.5] belonging to class P for k = (1,3,5,...21)\n",
    "## plot the probabilities (lineplot)      "
   ]
  },
  {
   "cell_type": "code",
   "execution_count": null,
   "metadata": {},
   "outputs": [],
   "source": []
  }
 ],
 "metadata": {
  "kernelspec": {
   "display_name": "Python 3",
   "language": "python",
   "name": "python3"
  },
  "language_info": {
   "codemirror_mode": {
    "name": "ipython",
    "version": 3
   },
   "file_extension": ".py",
   "mimetype": "text/x-python",
   "name": "python",
   "nbconvert_exporter": "python",
   "pygments_lexer": "ipython3",
   "version": "3.7.4"
  }
 },
 "nbformat": 4,
 "nbformat_minor": 4
}
