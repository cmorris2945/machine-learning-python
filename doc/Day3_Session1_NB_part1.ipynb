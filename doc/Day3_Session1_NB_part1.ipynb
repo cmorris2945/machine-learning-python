{
 "cells": [
  {
   "cell_type": "code",
   "execution_count": 6,
   "metadata": {},
   "outputs": [],
   "source": [
    "import pandas as pd\n",
    "df = pd.read_csv('../data/MiceProtein_2f2c.csv')"
   ]
  },
  {
   "cell_type": "code",
   "execution_count": 5,
   "metadata": {},
   "outputs": [
    {
     "data": {
      "text/plain": [
       "array([[<matplotlib.axes._subplots.AxesSubplot object at 0x1a1eecd210>]],\n",
       "      dtype=object)"
      ]
     },
     "execution_count": 5,
     "metadata": {},
     "output_type": "execute_result"
    },
    {
     "data": {
      "image/png": "[encoded data removed]",
      "text/plain": [
       "<Figure size 432x288 with 1 Axes>"
      ]
     },
     "metadata": {
      "needs_background": "light"
     },
     "output_type": "display_data"
    }
   ],
   "source": [
    "## Histograms of features\n",
    "df.hist(column='SCI1')"
   ]
  },
  {
   "cell_type": "code",
   "execution_count": 7,
   "metadata": {},
   "outputs": [
    {
     "name": "stdout",
     "output_type": "stream",
     "text": [
      "0.5\n",
      "0.5\n"
     ]
    }
   ],
   "source": [
    "## Priors for cP and cN\n",
    "n_cN = df[df['Response'] == 'N'].shape[0]\n",
    "n_cP = df[df['Response'] == 'P'].shape[0]\n",
    "p_cN = n_cN / (n_cN + n_cP) \n",
    "p_cP = n_cP / (n_cN + n_cP) \n",
    "print(p_cN)\n",
    "print(p_cP)"
   ]
  },
  {
   "cell_type": "code",
   "execution_count": 8,
   "metadata": {},
   "outputs": [
    {
     "name": "stdout",
     "output_type": "stream",
     "text": [
      "25.74159597002\n",
      "5.9918272965835255\n",
      "34.258404029933345\n",
      "9.761812069782161\n"
     ]
    }
   ],
   "source": [
    "## Naive Bayes for Gaussian (Normal) dist'n\n",
    "## Priors p_cP = p_cN = 0.5\n",
    "## Calculate likelihoods for SCI1 - calculate mean and std first\n",
    "df_cN = df[df['Response'] == 'N']\n",
    "df_cP = df[df['Response'] == 'P']\n",
    "mean_SCI1_cN = df_cN['SCI1'].mean()\n",
    "std_SCI1_cN = df_cN['SCI1'].std()\n",
    "print(mean_SCI1_cN)\n",
    "print(std_SCI1_cN)\n",
    "mean_SCI1_cP = df_cP['SCI1'].mean()\n",
    "std_SCI1_cP = df_cP['SCI1'].std()\n",
    "print(mean_SCI1_cP)\n",
    "print(std_SCI1_cP)"
   ]
  },
  {
   "cell_type": "code",
   "execution_count": 9,
   "metadata": {},
   "outputs": [
    {
     "name": "stdout",
     "output_type": "stream",
     "text": [
      "0.02017899072070187\n",
      "0.04055582626846548\n"
     ]
    }
   ],
   "source": [
    "## Calculate likelihoods for SCI1\n",
    "import math\n",
    "test_x=[[35, 11.5]]\n",
    "p_x_cN = (1 / (math.sqrt(2 * math.pi) * std_SCI1_cN)) * math.exp((-1/2) * ((test_x[0][0] - mean_SCI1_cN) / std_SCI1_cN)**2)\n",
    "print(p_x_cN)\n",
    "p_x_cP = (1 / (math.sqrt(2 * math.pi) * std_SCI1_cP)) * math.exp((-1/2) * ((test_x[0][0] - mean_SCI1_cP) / std_SCI1_cN)**2)\n",
    "print(p_x_cP)"
   ]
  },
  {
   "cell_type": "code",
   "execution_count": 10,
   "metadata": {},
   "outputs": [],
   "source": [
    "## calculate evidence\n",
    "p_x = p_x_cN * p_cN + p_x_cP * p_cP"
   ]
  },
  {
   "cell_type": "code",
   "execution_count": 11,
   "metadata": {},
   "outputs": [
    {
     "name": "stdout",
     "output_type": "stream",
     "text": [
      "0.3322474936295764\n",
      "0.6677525063704235\n"
     ]
    }
   ],
   "source": [
    "## Calculate Posterior probabilities for the test sample\n",
    "p_cN_x = p_x_cN * p_cN / p_x\n",
    "p_cP_x = p_x_cP * p_cP / p_x\n",
    "print(p_cN_x)\n",
    "print(p_cP_x)"
   ]
  },
  {
   "cell_type": "code",
   "execution_count": 12,
   "metadata": {},
   "outputs": [
    {
     "data": {
      "text/plain": [
       "array([[35.66264781],\n",
       "       [94.65768847]])"
      ]
     },
     "execution_count": 12,
     "metadata": {},
     "output_type": "execute_result"
    }
   ],
   "source": [
    "## Scikit Naive Bayes with SCI1 feature only\n",
    "import numpy as np\n",
    "from sklearn.naive_bayes import GaussianNB\n",
    "gnb = GaussianNB()\n",
    "X = df[['SCI1']].values\n",
    "y = df[['Response']].values\n",
    "myGNB = gnb.fit(X,np.ravel(y))\n",
    "y_pred = myGNB.predict([[35]])\n",
    "y_pred\n",
    "myGNB.predict_proba([[35]])\n",
    "myGNB.sigma_"
   ]
  },
  {
   "cell_type": "code",
   "execution_count": 13,
   "metadata": {},
   "outputs": [
    {
     "data": {
      "text/plain": [
       "95.29297488574468"
      ]
     },
     "execution_count": 13,
     "metadata": {},
     "output_type": "execute_result"
    }
   ],
   "source": [
    "std_SCI1_cP**2\n",
    "std_SCI1_cP**2"
   ]
  },
  {
   "cell_type": "code",
   "execution_count": 14,
   "metadata": {},
   "outputs": [
    {
     "data": {
      "text/plain": [
       "array([[0.33118928, 0.66881072]])"
      ]
     },
     "execution_count": 14,
     "metadata": {},
     "output_type": "execute_result"
    }
   ],
   "source": [
    "#myGNB.class_prior_\n",
    "#myGNB.theta_\n",
    "myGNB.sigma_ = np.array([[std_SCI1_cN**2], [std_SCI1_cP**2]])\n",
    "myGNB.predict_proba([[35]])"
   ]
  },
  {
   "cell_type": "code",
   "execution_count": 15,
   "metadata": {},
   "outputs": [
    {
     "data": {
      "text/plain": [
       "array([[0.58466981, 0.41533019]])"
      ]
     },
     "execution_count": 15,
     "metadata": {},
     "output_type": "execute_result"
    }
   ],
   "source": [
    "## Scikit Naive Bayes with both features\n",
    "import numpy as np\n",
    "from sklearn.naive_bayes import GaussianNB\n",
    "gnb = GaussianNB()\n",
    "X = df[['SCI1', 'NATR2']].values\n",
    "y = df[['Response']].values\n",
    "myGNB = gnb.fit(X,np.ravel(y))\n",
    "y_pred = myGNB.predict([[35, 11.5]])\n",
    "y_pred\n",
    "myGNB.predict_proba([[35, 11.5]])\n",
    "#myGNB.sigma_"
   ]
  },
  {
   "cell_type": "code",
   "execution_count": 16,
   "metadata": {},
   "outputs": [],
   "source": [
    "## Naive Bayes with standard scaled input\n",
    "from sklearn.preprocessing import StandardScaler\n",
    "X_norm = StandardScaler().fit_transform(X)\n",
    "test_x_norm = (test_x - np.mean(X, axis=0)) / np.std(X, axis=0) "
   ]
  },
  {
   "cell_type": "code",
   "execution_count": 19,
   "metadata": {},
   "outputs": [
    {
     "data": {
      "text/plain": [
       "array([[0.58466982, 0.41533018]])"
      ]
     },
     "execution_count": 19,
     "metadata": {},
     "output_type": "execute_result"
    }
   ],
   "source": [
    "myGNB = gnb.fit(X_norm,np.ravel(y))\n",
    "y_pred = myGNB.predict(test_x_norm)\n",
    "y_pred\n",
    "myGNB.predict_proba(test_x_norm)"
   ]
  },
  {
   "cell_type": "code",
   "execution_count": null,
   "metadata": {},
   "outputs": [],
   "source": [
    "## Standard scaling did not change the prediction"
   ]
  }
 ],
 "metadata": {
  "kernelspec": {
   "display_name": "Python 3",
   "language": "python",
   "name": "python3"
  },
  "language_info": {
   "codemirror_mode": {
    "name": "ipython",
    "version": 3
   },
   "file_extension": ".py",
   "mimetype": "text/x-python",
   "name": "python",
   "nbconvert_exporter": "python",
   "pygments_lexer": "ipython3",
   "version": "3.7.4"
  }
 },
 "nbformat": 4,
 "nbformat_minor": 4
}
