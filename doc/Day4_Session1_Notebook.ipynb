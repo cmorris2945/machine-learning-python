{
 "cells": [
  {
   "cell_type": "code",
   "execution_count": 4,
   "metadata": {},
   "outputs": [],
   "source": [
    "from sklearn.neural_network import MLPClassifier\n",
    "\n",
    "mlpclassifier = MLPClassifier(hidden_layer_sizes=(100, 200, 300))"
   ]
  },
  {
   "cell_type": "code",
   "execution_count": 5,
   "metadata": {},
   "outputs": [
    {
     "data": {
      "text/plain": [
       "MLPClassifier(activation='relu', alpha=0.0001, batch_size='auto', beta_1=0.9,\n",
       "              beta_2=0.999, early_stopping=False, epsilon=1e-08,\n",
       "              hidden_layer_sizes=(100, 200, 300), learning_rate='constant',\n",
       "              learning_rate_init=0.001, max_fun=15000, max_iter=200,\n",
       "              momentum=0.9, n_iter_no_change=10, nesterovs_momentum=True,\n",
       "              power_t=0.5, random_state=None, shuffle=True, solver='adam',\n",
       "              tol=0.0001, validation_fraction=0.1, verbose=False,\n",
       "              warm_start=False)"
      ]
     },
     "execution_count": 5,
     "metadata": {},
     "output_type": "execute_result"
    }
   ],
   "source": [
    "mlpclassifier"
   ]
  },
  {
   "cell_type": "code",
   "execution_count": 6,
   "metadata": {},
   "outputs": [
    {
     "name": "stderr",
     "output_type": "stream",
     "text": [
      "/Library/Frameworks/Python.framework/Versions/3.7/lib/python3.7/importlib/_bootstrap.py:219: RuntimeWarning: numpy.ufunc size changed, may indicate binary incompatibility. Expected 192 from C header, got 216 from PyObject\n",
      "  return f(*args, **kwds)\n"
     ]
    }
   ],
   "source": [
    "import numpy as np\n",
    "import pandas as pd"
   ]
  },
  {
   "cell_type": "code",
   "execution_count": 7,
   "metadata": {},
   "outputs": [],
   "source": [
    "data = pd.read_csv(\"MiceProtein_2f2c.csv\", sep=\",\")"
   ]
  },
  {
   "cell_type": "code",
   "execution_count": 9,
   "metadata": {},
   "outputs": [],
   "source": [
    "datavals = data.values"
   ]
  },
  {
   "cell_type": "code",
   "execution_count": 11,
   "metadata": {},
   "outputs": [],
   "source": [
    "X = datavals[:,:2]"
   ]
  },
  {
   "cell_type": "code",
   "execution_count": 13,
   "metadata": {},
   "outputs": [],
   "source": [
    "y = datavals[:,2]"
   ]
  },
  {
   "cell_type": "code",
   "execution_count": 14,
   "metadata": {},
   "outputs": [
    {
     "data": {
      "text/plain": [
       "array(['P', 'P', 'P', 'P', 'P', 'P', 'P', 'P', 'P', 'P', 'P', 'P', 'P',\n",
       "       'P', 'P', 'P', 'P', 'P', 'P', 'P', 'P', 'P', 'P', 'P', 'P', 'P',\n",
       "       'P', 'P', 'P', 'P', 'P', 'P', 'P', 'P', 'P', 'P', 'P', 'P', 'P',\n",
       "       'P', 'P', 'P', 'P', 'P', 'P', 'P', 'P', 'P', 'P', 'P', 'P', 'P',\n",
       "       'P', 'P', 'P', 'P', 'P', 'P', 'P', 'P', 'P', 'P', 'P', 'P', 'P',\n",
       "       'P', 'P', 'P', 'P', 'P', 'P', 'P', 'P', 'P', 'P', 'P', 'P', 'P',\n",
       "       'P', 'P', 'P', 'P', 'P', 'P', 'P', 'P', 'P', 'P', 'P', 'P', 'P',\n",
       "       'P', 'P', 'P', 'P', 'P', 'P', 'P', 'P', 'P', 'P', 'P', 'P', 'P',\n",
       "       'P', 'P', 'P', 'P', 'P', 'P', 'P', 'P', 'P', 'P', 'P', 'P', 'P',\n",
       "       'P', 'P', 'P', 'P', 'P', 'P', 'P', 'P', 'P', 'P', 'P', 'P', 'P',\n",
       "       'P', 'P', 'P', 'P', 'P', 'P', 'P', 'P', 'P', 'P', 'P', 'P', 'P',\n",
       "       'P', 'P', 'P', 'P', 'P', 'P', 'P', 'N', 'N', 'N', 'N', 'N', 'N',\n",
       "       'N', 'N', 'N', 'N', 'N', 'N', 'N', 'N', 'N', 'N', 'N', 'N', 'N',\n",
       "       'N', 'N', 'N', 'N', 'N', 'N', 'N', 'N', 'N', 'N', 'N', 'N', 'N',\n",
       "       'N', 'N', 'N', 'N', 'N', 'N', 'N', 'N', 'N', 'N', 'N', 'N', 'N',\n",
       "       'N', 'N', 'N', 'N', 'N', 'N', 'N', 'N', 'N', 'N', 'N', 'N', 'N',\n",
       "       'N', 'N', 'N', 'N', 'N', 'N', 'N', 'N', 'N', 'N', 'N', 'N', 'N',\n",
       "       'N', 'N', 'N', 'N', 'N', 'N', 'N', 'N', 'N', 'N', 'N', 'N', 'N',\n",
       "       'N', 'N', 'N', 'N', 'N', 'N', 'N', 'N', 'N', 'N', 'N', 'N', 'N',\n",
       "       'N', 'N', 'N', 'N', 'N', 'N', 'N', 'N', 'N', 'N', 'N', 'N', 'N',\n",
       "       'N', 'N', 'N', 'N', 'N', 'N', 'N', 'N', 'N', 'N', 'N', 'N', 'N',\n",
       "       'N', 'N', 'N', 'N', 'N', 'N', 'N', 'N', 'N', 'N', 'N', 'N', 'N',\n",
       "       'N', 'N', 'N', 'N', 'N', 'N', 'N', 'N', 'N', 'N', 'N', 'N', 'N',\n",
       "       'N'], dtype=object)"
      ]
     },
     "execution_count": 14,
     "metadata": {},
     "output_type": "execute_result"
    }
   ],
   "source": [
    "y"
   ]
  },
  {
   "cell_type": "code",
   "execution_count": 15,
   "metadata": {},
   "outputs": [],
   "source": [
    "from sklearn.model_selection import train_test_split"
   ]
  },
  {
   "cell_type": "code",
   "execution_count": 20,
   "metadata": {},
   "outputs": [],
   "source": [
    "X_train, X_test, y_train, y_test = train_test_split(X, y, test_size=0.2)"
   ]
  },
  {
   "cell_type": "code",
   "execution_count": 21,
   "metadata": {},
   "outputs": [
    {
     "data": {
      "text/plain": [
       "(240, 2)"
      ]
     },
     "execution_count": 21,
     "metadata": {},
     "output_type": "execute_result"
    }
   ],
   "source": [
    "np.shape(X_train)"
   ]
  },
  {
   "cell_type": "code",
   "execution_count": 22,
   "metadata": {},
   "outputs": [
    {
     "data": {
      "text/plain": [
       "(60, 2)"
      ]
     },
     "execution_count": 22,
     "metadata": {},
     "output_type": "execute_result"
    }
   ],
   "source": [
    "np.shape(X_test)"
   ]
  },
  {
   "cell_type": "code",
   "execution_count": 24,
   "metadata": {},
   "outputs": [
    {
     "data": {
      "text/plain": [
       "MLPClassifier(activation='relu', alpha=0.0001, batch_size='auto', beta_1=0.9,\n",
       "              beta_2=0.999, early_stopping=False, epsilon=1e-08,\n",
       "              hidden_layer_sizes=(100, 200, 300), learning_rate='constant',\n",
       "              learning_rate_init=0.001, max_fun=15000, max_iter=200,\n",
       "              momentum=0.9, n_iter_no_change=10, nesterovs_momentum=True,\n",
       "              power_t=0.5, random_state=None, shuffle=True, solver='adam',\n",
       "              tol=0.0001, validation_fraction=0.1, verbose=False,\n",
       "              warm_start=False)"
      ]
     },
     "execution_count": 24,
     "metadata": {},
     "output_type": "execute_result"
    }
   ],
   "source": [
    "mlpclassifier.fit(X_train, y_train)"
   ]
  },
  {
   "cell_type": "code",
   "execution_count": 25,
   "metadata": {},
   "outputs": [],
   "source": [
    "probabilities = mlpclassifier.predict_proba(X_test)"
   ]
  },
  {
   "cell_type": "code",
   "execution_count": 27,
   "metadata": {},
   "outputs": [],
   "source": [
    "from sklearn.metrics import roc_auc_score"
   ]
  },
  {
   "cell_type": "code",
   "execution_count": 37,
   "metadata": {},
   "outputs": [
    {
     "data": {
      "text/plain": [
       "0.04582843713278496"
      ]
     },
     "execution_count": 37,
     "metadata": {},
     "output_type": "execute_result"
    }
   ],
   "source": [
    "roc_auc_score(y_test, probabilities[:,0])"
   ]
  },
  {
   "cell_type": "code",
   "execution_count": 31,
   "metadata": {},
   "outputs": [
    {
     "data": {
      "text/plain": [
       "array(['P', 'N', 'N', 'P', 'N', 'N', 'N', 'N', 'N', 'N', 'N', 'N', 'P',\n",
       "       'P', 'P', 'P', 'N', 'P', 'N', 'P', 'P', 'P', 'P', 'P', 'P', 'N',\n",
       "       'P', 'P', 'P', 'P', 'P', 'N', 'P', 'N', 'P', 'P', 'P', 'P', 'N',\n",
       "       'P', 'P', 'P', 'P', 'N', 'N', 'P', 'P', 'P', 'P', 'P', 'N', 'N',\n",
       "       'N', 'N', 'N', 'P', 'P', 'P', 'P', 'P'], dtype=object)"
      ]
     },
     "execution_count": 31,
     "metadata": {},
     "output_type": "execute_result"
    }
   ],
   "source": [
    "y_test"
   ]
  },
  {
   "cell_type": "code",
   "execution_count": 39,
   "metadata": {},
   "outputs": [],
   "source": [
    "y_test_encoded = np.zeros(np.shape(y_test))"
   ]
  },
  {
   "cell_type": "code",
   "execution_count": 40,
   "metadata": {},
   "outputs": [],
   "source": [
    "y_test_encoded[y_test == \"P\"] = 1"
   ]
  },
  {
   "cell_type": "code",
   "execution_count": 47,
   "metadata": {},
   "outputs": [
    {
     "data": {
      "text/plain": [
       "array([[9.23736691e-01, 7.62633086e-02],\n",
       "       [9.99617577e-01, 3.82422929e-04],\n",
       "       [9.94913997e-01, 5.08600314e-03],\n",
       "       [9.44329057e-04, 9.99055671e-01],\n",
       "       [8.06042429e-01, 1.93957571e-01],\n",
       "       [4.61924399e-01, 5.38075601e-01],\n",
       "       [9.36841399e-01, 6.31586013e-02],\n",
       "       [9.89217336e-01, 1.07826641e-02],\n",
       "       [9.72334398e-01, 2.76656017e-02],\n",
       "       [7.48519568e-01, 2.51480432e-01],\n",
       "       [9.99728513e-01, 2.71487399e-04],\n",
       "       [9.63748697e-01, 3.62513033e-02],\n",
       "       [5.70510793e-02, 9.42948921e-01],\n",
       "       [1.77648226e-05, 9.99982235e-01],\n",
       "       [1.00059708e-04, 9.99899940e-01],\n",
       "       [6.55658487e-03, 9.93443415e-01],\n",
       "       [9.88384620e-01, 1.16153796e-02],\n",
       "       [4.15150842e-04, 9.99584849e-01],\n",
       "       [8.89889193e-01, 1.10110807e-01],\n",
       "       [8.22479128e-01, 1.77520872e-01],\n",
       "       [8.31426552e-03, 9.91685734e-01],\n",
       "       [1.29962426e-05, 9.99987004e-01],\n",
       "       [8.53138582e-01, 1.46861418e-01],\n",
       "       [9.47641492e-01, 5.23585084e-02],\n",
       "       [6.02306358e-05, 9.99939769e-01],\n",
       "       [9.99783288e-01, 2.16712053e-04],\n",
       "       [1.91050790e-01, 8.08949210e-01],\n",
       "       [2.39926410e-05, 9.99976007e-01],\n",
       "       [9.62605294e-01, 3.73947062e-02],\n",
       "       [6.84936652e-04, 9.99315063e-01],\n",
       "       [3.20360408e-01, 6.79639592e-01],\n",
       "       [9.91228972e-01, 8.77102817e-03],\n",
       "       [1.11515200e-03, 9.98884848e-01],\n",
       "       [8.86167056e-01, 1.13832944e-01],\n",
       "       [2.71664939e-05, 9.99972834e-01],\n",
       "       [1.09046204e-06, 9.99998910e-01],\n",
       "       [5.70373013e-06, 9.99994296e-01],\n",
       "       [3.07795097e-04, 9.99692205e-01],\n",
       "       [9.97445063e-01, 2.55493665e-03],\n",
       "       [1.74484215e-01, 8.25515785e-01],\n",
       "       [4.48661320e-01, 5.51338680e-01],\n",
       "       [4.32942359e-01, 5.67057641e-01],\n",
       "       [3.01396131e-01, 6.98603869e-01],\n",
       "       [8.85564802e-01, 1.14435198e-01],\n",
       "       [9.99360882e-01, 6.39118122e-04],\n",
       "       [7.15900402e-02, 9.28409960e-01],\n",
       "       [2.84617209e-03, 9.97153828e-01],\n",
       "       [6.26863784e-01, 3.73136216e-01],\n",
       "       [8.11634599e-02, 9.18836540e-01],\n",
       "       [6.32773987e-01, 3.67226013e-01],\n",
       "       [6.96136170e-01, 3.03863830e-01],\n",
       "       [9.49581798e-01, 5.04182023e-02],\n",
       "       [9.89600582e-01, 1.03994178e-02],\n",
       "       [9.93981423e-01, 6.01857702e-03],\n",
       "       [6.56298349e-01, 3.43701651e-01],\n",
       "       [1.40692647e-01, 8.59307353e-01],\n",
       "       [1.58765295e-02, 9.84123470e-01],\n",
       "       [7.49947493e-03, 9.92500525e-01],\n",
       "       [4.42698353e-02, 9.55730165e-01],\n",
       "       [7.29288829e-03, 9.92707112e-01]])"
      ]
     },
     "execution_count": 47,
     "metadata": {},
     "output_type": "execute_result"
    }
   ],
   "source": [
    "probabilities[:,:]"
   ]
  },
  {
   "cell_type": "code",
   "execution_count": 41,
   "metadata": {},
   "outputs": [
    {
     "data": {
      "text/plain": [
       "0.9541715628672152"
      ]
     },
     "execution_count": 41,
     "metadata": {},
     "output_type": "execute_result"
    }
   ],
   "source": [
    "roc_auc_score(y_test, probabilities[:,1])"
   ]
  },
  {
   "cell_type": "code",
   "execution_count": 42,
   "metadata": {},
   "outputs": [],
   "source": [
    "import matplotlib.pyplot as plt\n",
    "from sklearn.metrics import roc_curve, precision_recall_curve, average_precision_score, auc\n",
    "def plotROC(yscore, true, title=None, outfile=None):\n",
    "    \"\"\"Generates a receiver operating characteristic\n",
    "        curve for the given prediction probabilities.\n",
    "        \n",
    "        Parameters\n",
    "        ----------\n",
    "        yscore : list of lists\n",
    "        Probability scores.\n",
    "        \n",
    "        true : list of lists\n",
    "        True labels.\n",
    "        \n",
    "        title : str\n",
    "        The title of the confusion matrix.\n",
    "        \n",
    "        outfile : str\n",
    "        The destination of the .pdf file generated.\n",
    "        \"\"\"\n",
    "    fig = plt.figure()\n",
    "    plt.xlim([0.0, 1.0])\n",
    "    plt.ylim([0.0, 1.0])\n",
    "    plt.xlabel('False Positive Rate')\n",
    "    plt.ylabel('True Positive Rate')\n",
    "    if title:\n",
    "        plt.title(title)\n",
    "    \n",
    "    fpr, tpr, _ = roc_curve(true, yscore[:,1])\n",
    "    roc_auc = auc(fpr, tpr)\n",
    "    plt.plot(fpr, tpr, label='(ROC AUC = %0.2f)' % (roc_auc),linewidth=2)\n",
    "\n",
    "    plt.legend(loc=\"lower right\")\n",
    "    \n",
    "    if outfile:\n",
    "        pdfplot = PdfPages(outfile);\n",
    "        pdfplot.savefig(fig)\n",
    "        pdfplot.close()\n",
    "    \n",
    "\n",
    "def plotPRC(yscore, true, title=None, outfile=None):\n",
    "    \"\"\"Generates a precision recall curve for the\n",
    "        given prediction probabilities.\n",
    "        \n",
    "        Parameters\n",
    "        ----------\n",
    "        yscore : list of lists\n",
    "        Probability scores.\n",
    "        \n",
    "        true : list of lists\n",
    "        True labels.\n",
    "        \n",
    "        title : str\n",
    "        The title of the confusion matrix.\n",
    "        \n",
    "        outfile : str\n",
    "        The destination of the .pdf file generated.\n",
    "        \"\"\"\n",
    "    \n",
    "    fig = plt.figure()\n",
    "    plt.xlim([0.0, 1.0])\n",
    "    plt.ylim([0.0, 1.0])\n",
    "    plt.xlabel('Recall')\n",
    "    plt.ylabel('Precision')\n",
    "    if title:\n",
    "        plt.title(title)\n",
    "    \n",
    "    precision, recall, _ =  precision_recall_curve(true, yscore[:,1])\n",
    "    prc_auc = average_precision_score(true, yscore[:,1])\n",
    "    plt.plot(recall, precision, label='(Avg. Precision = %0.2f)' % (prc_auc),linewidth=1)\n",
    "    \n",
    "    plt.legend(loc=\"lower right\")\n",
    "    if outfile:\n",
    "        pdfplot = PdfPages(outfile);\n",
    "        pdfplot.savefig(fig)\n",
    "        pdfplot.close()"
   ]
  },
  {
   "cell_type": "code",
   "execution_count": 44,
   "metadata": {},
   "outputs": [
    {
     "data": {
      "image/png": "[encoded data removed]",
      "text/plain": [
       "<Figure size 432x288 with 1 Axes>"
      ]
     },
     "metadata": {
      "needs_background": "light"
     },
     "output_type": "display_data"
    }
   ],
   "source": [
    "plotROC(probabilities, y_test_encoded)"
   ]
  },
  {
   "cell_type": "code",
   "execution_count": null,
   "metadata": {},
   "outputs": [],
   "source": []
  }
 ],
 "metadata": {
  "kernelspec": {
   "display_name": "Python 3",
   "language": "python",
   "name": "python3"
  },
  "language_info": {
   "codemirror_mode": {
    "name": "ipython",
    "version": 3
   },
   "file_extension": ".py",
   "mimetype": "text/x-python",
   "name": "python",
   "nbconvert_exporter": "python",
   "pygments_lexer": "ipython3",
   "version": "3.7.6"
  }
 },
 "nbformat": 4,
 "nbformat_minor": 4
}
